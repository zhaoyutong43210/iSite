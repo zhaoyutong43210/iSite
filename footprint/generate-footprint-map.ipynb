{
 "cells": [
  {
   "cell_type": "code",
   "execution_count": 28,
   "metadata": {},
   "outputs": [],
   "source": [
    "import os\n",
    "import pandas as pd\n",
    "\n",
    "import time\n",
    "import datetime"
   ]
  },
  {
   "cell_type": "code",
   "execution_count": 4,
   "metadata": {},
   "outputs": [],
   "source": [
    "csvfn = []\n",
    "fns = os.listdir('./raw')\n",
    "\n",
    "for file in fns:\n",
    "    # check only text files\n",
    "    if file.endswith('.csv'):\n",
    "        csvfn.append(file)"
   ]
  },
  {
   "cell_type": "code",
   "execution_count": 5,
   "metadata": {},
   "outputs": [
    {
     "data": {
      "text/plain": [
       "['hdd_photos.csv', 'iphone_map.csv', 'timeline.csv', 'pc_photos.csv']"
      ]
     },
     "execution_count": 5,
     "metadata": {},
     "output_type": "execute_result"
    }
   ],
   "source": [
    "csvfn"
   ]
  },
  {
   "cell_type": "code",
   "execution_count": 19,
   "metadata": {},
   "outputs": [],
   "source": [
    "n = 0\n",
    "for fn in csvfn:\n",
    "    if n:\n",
    "        dfn = pd.read_csv(fn, index_col= False).sort_values(by='time')\n",
    "        df = pd.concat([df, dfn])\n",
    "    else:\n",
    "        df = pd.read_csv(fn, index_col= False).sort_values(by='time')\n",
    "\n",
    "    n+=1"
   ]
  },
  {
   "cell_type": "code",
   "execution_count": 24,
   "metadata": {},
   "outputs": [],
   "source": [
    "dfw = df.drop(columns=['altitude']).sort_values(by='time').drop_duplicates()"
   ]
  },
  {
   "cell_type": "code",
   "execution_count": 25,
   "metadata": {},
   "outputs": [
    {
     "data": {
      "text/plain": [
       "[<matplotlib.lines.Line2D at 0x7fba2a4ef520>]"
      ]
     },
     "execution_count": 25,
     "metadata": {},
     "output_type": "execute_result"
    },
    {
     "data": {
      "image/png": "[encoded data removed]",
      "text/plain": [
       "<Figure size 640x480 with 1 Axes>"
      ]
     },
     "metadata": {},
     "output_type": "display_data"
    }
   ],
   "source": [
    "import matplotlib.pyplot  as plt\n",
    "\n",
    "plt.plot(dfw['longitude'], dfw['latitude'],'.')"
   ]
  },
  {
   "cell_type": "code",
   "execution_count": 26,
   "metadata": {},
   "outputs": [],
   "source": [
    "dfw.to_csv('footprint.csv', index=False)"
   ]
  },
  {
   "cell_type": "code",
   "execution_count": 27,
   "metadata": {},
   "outputs": [
    {
     "data": {
      "text/html": [
       "<div>\n",
       "<style scoped>\n",
       "    .dataframe tbody tr th:only-of-type {\n",
       "        vertical-align: middle;\n",
       "    }\n",
       "\n",
       "    .dataframe tbody tr th {\n",
       "        vertical-align: top;\n",
       "    }\n",
       "\n",
       "    .dataframe thead th {\n",
       "        text-align: right;\n",
       "    }\n",
       "</style>\n",
       "<table border=\"1\" class=\"dataframe\">\n",
       "  <thead>\n",
       "    <tr style=\"text-align: right;\">\n",
       "      <th></th>\n",
       "      <th>time</th>\n",
       "      <th>latitude</th>\n",
       "      <th>longitude</th>\n",
       "    </tr>\n",
       "  </thead>\n",
       "  <tbody>\n",
       "    <tr>\n",
       "      <th>9565</th>\n",
       "      <td>2005:08:27 00:21:17</td>\n",
       "      <td>45.115333</td>\n",
       "      <td>-73.268500</td>\n",
       "    </tr>\n",
       "    <tr>\n",
       "      <th>18</th>\n",
       "      <td>2013:08:03 08:27:58</td>\n",
       "      <td>49.810333</td>\n",
       "      <td>-97.135167</td>\n",
       "    </tr>\n",
       "    <tr>\n",
       "      <th>19</th>\n",
       "      <td>2013:08:03 08:29:39</td>\n",
       "      <td>49.810333</td>\n",
       "      <td>-97.135167</td>\n",
       "    </tr>\n",
       "    <tr>\n",
       "      <th>20</th>\n",
       "      <td>2013:08:03 08:29:45</td>\n",
       "      <td>49.810333</td>\n",
       "      <td>-97.135333</td>\n",
       "    </tr>\n",
       "    <tr>\n",
       "      <th>21</th>\n",
       "      <td>2013:08:03 11:02:20</td>\n",
       "      <td>49.810333</td>\n",
       "      <td>-97.136333</td>\n",
       "    </tr>\n",
       "    <tr>\n",
       "      <th>...</th>\n",
       "      <td>...</td>\n",
       "      <td>...</td>\n",
       "      <td>...</td>\n",
       "    </tr>\n",
       "    <tr>\n",
       "      <th>116</th>\n",
       "      <td>2023:11:25 16:42:39</td>\n",
       "      <td>45.478672</td>\n",
       "      <td>-73.660217</td>\n",
       "    </tr>\n",
       "    <tr>\n",
       "      <th>124</th>\n",
       "      <td>2023:11:25 16:42:40</td>\n",
       "      <td>45.478703</td>\n",
       "      <td>-73.660217</td>\n",
       "    </tr>\n",
       "    <tr>\n",
       "      <th>133</th>\n",
       "      <td>2023:11:25 17:51:43</td>\n",
       "      <td>45.478611</td>\n",
       "      <td>-73.660356</td>\n",
       "    </tr>\n",
       "    <tr>\n",
       "      <th>140</th>\n",
       "      <td>2023:11:25 17:52:13</td>\n",
       "      <td>45.478611</td>\n",
       "      <td>-73.660356</td>\n",
       "    </tr>\n",
       "    <tr>\n",
       "      <th>114</th>\n",
       "      <td>2023:11:25 17:58:11</td>\n",
       "      <td>45.478611</td>\n",
       "      <td>-73.660356</td>\n",
       "    </tr>\n",
       "  </tbody>\n",
       "</table>\n",
       "<p>19282 rows × 3 columns</p>\n",
       "</div>"
      ],
      "text/plain": [
       "                     time   latitude  longitude\n",
       "9565  2005:08:27 00:21:17  45.115333 -73.268500\n",
       "18    2013:08:03 08:27:58  49.810333 -97.135167\n",
       "19    2013:08:03 08:29:39  49.810333 -97.135167\n",
       "20    2013:08:03 08:29:45  49.810333 -97.135333\n",
       "21    2013:08:03 11:02:20  49.810333 -97.136333\n",
       "...                   ...        ...        ...\n",
       "116   2023:11:25 16:42:39  45.478672 -73.660217\n",
       "124   2023:11:25 16:42:40  45.478703 -73.660217\n",
       "133   2023:11:25 17:51:43  45.478611 -73.660356\n",
       "140   2023:11:25 17:52:13  45.478611 -73.660356\n",
       "114   2023:11:25 17:58:11  45.478611 -73.660356\n",
       "\n",
       "[19282 rows x 3 columns]"
      ]
     },
     "execution_count": 27,
     "metadata": {},
     "output_type": "execute_result"
    }
   ],
   "source": [
    "dfw"
   ]
  },
  {
   "cell_type": "code",
   "execution_count": 64,
   "metadata": {},
   "outputs": [
    {
     "name": "stdout",
     "output_type": "stream",
     "text": [
      "2017-01-08T16:43:54.455Z\n",
      "1483911834.0\n"
     ]
    }
   ],
   "source": [
    "date_format = \"%Y:%m:%d %H:%M:%S\"\n",
    "date_format2 = \"%Y-%m-%dT%H:%M:%S.%fZ\"\n",
    "print(dfw.iloc[1840,0])\n",
    "print(time.mktime(datetime.datetime.strptime(dfw.iloc[1840,0],\n",
    "                                            date_format2).timetuple()))"
   ]
  },
  {
   "cell_type": "code",
   "execution_count": 33,
   "metadata": {},
   "outputs": [
    {
     "data": {
      "text/plain": [
       "'2005:08:27 00:21:17'"
      ]
     },
     "execution_count": 33,
     "metadata": {},
     "output_type": "execute_result"
    }
   ],
   "source": [
    "dfw.iloc[0,0]"
   ]
  },
  {
   "cell_type": "code",
   "execution_count": 48,
   "metadata": {},
   "outputs": [],
   "source": [
    "dfw['timestamp'] = 0"
   ]
  },
  {
   "cell_type": "code",
   "execution_count": 52,
   "metadata": {},
   "outputs": [
    {
     "data": {
      "text/plain": [
       "19282"
      ]
     },
     "execution_count": 52,
     "metadata": {},
     "output_type": "execute_result"
    }
   ],
   "source": []
  },
  {
   "cell_type": "code",
   "execution_count": 66,
   "metadata": {},
   "outputs": [],
   "source": [
    "for n in range(dfw.shape[0]):\n",
    "    try:\n",
    "        dfw.iloc[n,3] = int(time.mktime(datetime.datetime.strptime(dfw.iloc[n,0], date_format).timetuple()))\n",
    "    except:\n",
    "        # print(n)\n",
    "        dfw.iloc[n,3] = int(time.mktime(datetime.datetime.strptime(dfw.iloc[n,0], date_format2).timetuple()))"
   ]
  },
  {
   "cell_type": "code",
   "execution_count": 68,
   "metadata": {},
   "outputs": [],
   "source": [
    "dfw.to_csv('footprint.csv', index=False)"
   ]
  },
  {
   "cell_type": "code",
   "execution_count": null,
   "metadata": {},
   "outputs": [],
   "source": []
  }
 ],
 "metadata": {
  "kernelspec": {
   "display_name": "yt",
   "language": "python",
   "name": "yt"
  },
  "language_info": {
   "codemirror_mode": {
    "name": "ipython",
    "version": 3
   },
   "file_extension": ".py",
   "mimetype": "text/x-python",
   "name": "python",
   "nbconvert_exporter": "python",
   "pygments_lexer": "ipython3",
   "version": "3.8.10"
  }
 },
 "nbformat": 4,
 "nbformat_minor": 2
}
